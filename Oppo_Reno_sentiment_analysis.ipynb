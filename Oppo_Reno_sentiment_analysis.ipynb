{
 "cells": [
  {
   "cell_type": "markdown",
   "metadata": {},
   "source": [
    "# Oppo Reno model Sentiment analysis"
   ]
  },
  {
   "cell_type": "markdown",
   "metadata": {},
   "source": [
    "### Loading datasets for model training"
   ]
  },
  {
   "cell_type": "code",
   "execution_count": 1,
   "metadata": {},
   "outputs": [],
   "source": [
    "from sklearn.datasets import load_files\n",
    "datasets = load_files(\"txt_sentoken/\") # Dataset from Cornell Computer Science\n",
    "\n",
    "X,y = datasets.data,datasets.target"
   ]
  },
  {
   "cell_type": "markdown",
   "metadata": {},
   "source": [
    "### Saving datasets as pickle file"
   ]
  },
  {
   "cell_type": "code",
   "execution_count": 2,
   "metadata": {},
   "outputs": [],
   "source": [
    "import pickle\n",
    "with open(\"X.pickle\",\"wb\") as f:\n",
    "    pickle.dump(X,f)\n",
    "\n",
    "with open(\"y.pickle\",\"wb\") as f:\n",
    "    pickle.dump(y,f)"
   ]
  },
  {
   "cell_type": "markdown",
   "metadata": {},
   "source": [
    "### Preprocessing"
   ]
  },
  {
   "cell_type": "code",
   "execution_count": 3,
   "metadata": {},
   "outputs": [],
   "source": [
    "import re\n",
    "with open(\"X.pickle\",\"rb\") as f:\n",
    "    X = pickle.load(f)\n",
    "\n",
    "with open(\"y.pickle\",\"rb\") as f:\n",
    "    y = pickle.load(f)\n",
    "corpus = []\n",
    "for i in range(len(X)):\n",
    "    data = re.sub(r\"\\W\",\" \",str(X[i]))\n",
    "    data = data.lower()\n",
    "    data = re.sub(r\"\\s+[a-z]\\s+\",\" \",data)\n",
    "    data = re.sub(r\"^[a-z]\\s+\",\" \",data)\n",
    "    data = re.sub(r\"\\s+\",\" \",data)\n",
    "    corpus.append(data)"
   ]
  },
  {
   "cell_type": "markdown",
   "metadata": {},
   "source": [
    "### Count Vectorization"
   ]
  },
  {
   "cell_type": "code",
   "execution_count": 4,
   "metadata": {},
   "outputs": [
    {
     "name": "stderr",
     "output_type": "stream",
     "text": [
      "[nltk_data] Downloading package stopwords to\n",
      "[nltk_data]     C:\\Users\\Shanu\\AppData\\Roaming\\nltk_data...\n",
      "[nltk_data]   Package stopwords is already up-to-date!\n"
     ]
    }
   ],
   "source": [
    "from sklearn.feature_extraction.text import CountVectorizer\n",
    "import nltk\n",
    "from nltk.corpus import stopwords\n",
    "nltk.download(\"stopwords\")\n",
    "import warnings\n",
    "warnings.filterwarnings(\"ignore\")\n",
    "\n",
    "vectorizer = CountVectorizer(max_features = 2000, min_df = 3, max_df = 0.6,stop_words= stopwords.words('english'))\n",
    "X_vectzr = vectorizer.fit_transform(corpus).toarray()\n"
   ]
  },
  {
   "cell_type": "markdown",
   "metadata": {},
   "source": [
    "### TFIDF Transformation"
   ]
  },
  {
   "cell_type": "code",
   "execution_count": 5,
   "metadata": {},
   "outputs": [],
   "source": [
    "from sklearn.feature_extraction.text import TfidfTransformer\n",
    "Tfidf_trans = TfidfTransformer()\n",
    "X_Tfidf = Tfidf_trans.fit_transform(X_vectzr).toarray()"
   ]
  },
  {
   "cell_type": "markdown",
   "metadata": {},
   "source": [
    "### Model Training & Prediction"
   ]
  },
  {
   "cell_type": "code",
   "execution_count": 6,
   "metadata": {},
   "outputs": [
    {
     "name": "stdout",
     "output_type": "stream",
     "text": [
      "Accuracy: 0.845\n",
      "\n",
      "******************-----------******************\n",
      "Confusion Matrix\n"
     ]
    },
    {
     "data": {
      "image/png": "[encoded data removed]",
      "text/plain": [
       "<Figure size 432x288 with 2 Axes>"
      ]
     },
     "metadata": {
      "needs_background": "light"
     },
     "output_type": "display_data"
    }
   ],
   "source": [
    "from sklearn.model_selection import train_test_split\n",
    "from sklearn.linear_model import LogisticRegression\n",
    "from sklearn.metrics import accuracy_score,confusion_matrix\n",
    "%matplotlib inline\n",
    "import seaborn as sns\n",
    "import matplotlib.pyplot as plt\n",
    "\n",
    "X_train,X_test,Y_train,Y_test = train_test_split(X_Tfidf,y,test_size = 0.3, random_state = 0)\n",
    "\n",
    "LogR_clf = LogisticRegression()\n",
    "LogR_clf.fit(X_train,Y_train)\n",
    "Y_predict = LogR_clf.predict(X_test)\n",
    "print(\"Accuracy:\",str(accuracy_score(Y_predict,Y_test)))\n",
    "print(\"\\n******************-----------******************\\nConfusion Matrix\")\n",
    "sns.heatmap(confusion_matrix(Y_test,Y_predict),cmap = [\"red\",\"orange\",\"yellow\",\"green\"])\n",
    "plt.title(\"Confusion Matrix\")\n",
    "plt.ylabel(\"Actual (0--Neg, 1--Pos)\")\n",
    "plt.xlabel(\"Predicted (0--Neg, 1--Pos)\")\n",
    "plt.show()"
   ]
  },
  {
   "cell_type": "markdown",
   "metadata": {},
   "source": [
    "### Pickling the classifier and vectorizer"
   ]
  },
  {
   "cell_type": "code",
   "execution_count": 7,
   "metadata": {},
   "outputs": [
    {
     "name": "stderr",
     "output_type": "stream",
     "text": [
      "[nltk_data] Downloading package stopwords to\n",
      "[nltk_data]     C:\\Users\\Shanu\\AppData\\Roaming\\nltk_data...\n",
      "[nltk_data]   Package stopwords is already up-to-date!\n"
     ]
    }
   ],
   "source": [
    "# pickling the classifier\n",
    "with open(\"LogR_cfl.pickle\",'wb') as f:\n",
    "    pickle.dump(LogR_clf,f)\n",
    "\n",
    "# Creating TFIDF vectorizer for pickling\n",
    "from sklearn.feature_extraction.text import TfidfVectorizer\n",
    "import nltk\n",
    "from nltk.corpus import stopwords\n",
    "nltk.download(\"stopwords\")\n",
    "import warnings\n",
    "warnings.filterwarnings(\"ignore\")\n",
    "\n",
    "Tfidf_vectorizer = TfidfVectorizer(max_features = 2000, min_df = 3, max_df = 0.6,stop_words= stopwords.words('english'))\n",
    "X_Tfidf_vectzr = Tfidf_vectorizer.fit_transform(corpus).toarray()\n",
    "\n",
    "# pickling the Tfidf vectorizer  \n",
    "with open(\"Tfidf_Vec.pickle\",'wb') as f:\n",
    "    pickle.dump(Tfidf_vectorizer,f)\n"
   ]
  },
  {
   "cell_type": "markdown",
   "metadata": {},
   "source": [
    "## Fetching tweets from twitter"
   ]
  },
  {
   "cell_type": "code",
   "execution_count": 8,
   "metadata": {},
   "outputs": [],
   "source": [
    "# importing libraries\n",
    "import tweepy\n",
    "import re\n",
    "from tweepy import OAuthHandler\n",
    "\n",
    "# Initializing the keys\n",
    "ckey=\"BJLMbUq7au6lFeNQF4QO2ZQsa\"\n",
    "csecret=\"a8v40HFNf5virM6dn1PDpw2HDtPXg53zRJ6ZQpzcWGVn8QEjZS\"\n",
    "atoken=\"1385264515-lwIlfXy8vTFG1rYfgON4MRtDpSCrK9F6deEuRio\"\n",
    "asecret=\"HFi76cndRAQYcoOU0Uy1evPw3V7P4HElGNU0jFkaCbOMF\"\n",
    "\n",
    "auth = OAuthHandler(ckey, csecret)\n",
    "auth.set_access_token(atoken,asecret)\n",
    "args = [\"Oppo Reno\"]\n",
    "api = tweepy.API(auth,timeout = 15)\n",
    "tweet_list = []\n",
    "query = args[0]\n",
    "if len(args) == 1:\n",
    "    for status in tweepy.Cursor(api.search,q = query+\" -filter:retweets\",lang = \"en\", result_type = \"recent\").items(1000):\n",
    "        tweet_list.append(status.text)"
   ]
  },
  {
   "cell_type": "markdown",
   "metadata": {},
   "source": [
    "### Preprocessing for downloaded tweets"
   ]
  },
  {
   "cell_type": "code",
   "execution_count": 9,
   "metadata": {},
   "outputs": [],
   "source": [
    "# Preprocessing the tweets\n",
    "new_tweet_list = []\n",
    "for tweet in tweet_list:\n",
    "    tweet = re.sub(r\"^https://t.co/[a-zA-Z0-9]*\\s\", \" \", str(tweet))\n",
    "    tweet = re.sub(r\"\\s+https://t.co/[a-zA-Z0-9]*\\s\", \" \", tweet)\n",
    "    tweet = re.sub(r\"\\s+https://t.co/[a-zA-Z0-9]*$\", \" \", tweet)\n",
    "    tweet = tweet.lower()\n",
    "    tweet = re.sub(r\"that's\",\"that is\",tweet)\n",
    "    tweet = re.sub(r\"there's\",\"there is\",tweet)\n",
    "    tweet = re.sub(r\"what's\",\"what is\",tweet)\n",
    "    tweet = re.sub(r\"where's\",\"where is\",tweet)\n",
    "    tweet = re.sub(r\"it's\",\"it is\",tweet)\n",
    "    tweet = re.sub(r\"who's\",\"who is\",tweet)\n",
    "    tweet = re.sub(r\"i'm\",\"i am\",tweet)\n",
    "    tweet = re.sub(r\"she's\",\"she is\",tweet)\n",
    "    tweet = re.sub(r\"he's\",\"he is\",tweet)\n",
    "    tweet = re.sub(r\"they're\",\"they are\",tweet)\n",
    "    tweet = re.sub(r\"who're\",\"who are\",tweet)\n",
    "    tweet = re.sub(r\"ain't\",\"am not\",tweet)\n",
    "    tweet = re.sub(r\"wouldn't\",\"would not\",tweet)\n",
    "    tweet = re.sub(r\"shouldn't\",\"should not\",tweet)\n",
    "    tweet = re.sub(r\"can't\",\"can not\",tweet)\n",
    "    tweet = re.sub(r\"couldn't\",\"could not\",tweet)\n",
    "    tweet = re.sub(r\"won't\",\"will not\",tweet)\n",
    "    tweet = re.sub(r\"\\W\",\" \",tweet)\n",
    "    tweet = re.sub(r\"\\d\",\" \",tweet)\n",
    "    tweet = re.sub(r\"\\s+[a-z]\\s+\",\" \",tweet)\n",
    "    tweet = re.sub(r\"\\s+[a-z]$\",\" \",tweet)\n",
    "    tweet = re.sub(r\"^[a-z]\\s+\",\" \",tweet)\n",
    "    tweet = re.sub(r\"\\s+\",\" \",tweet)\n",
    "    new_tweet_list.append(tweet)\n",
    "    "
   ]
  },
  {
   "cell_type": "markdown",
   "metadata": {},
   "source": [
    "### Unpickling classifier & vectorizer"
   ]
  },
  {
   "cell_type": "code",
   "execution_count": 10,
   "metadata": {},
   "outputs": [],
   "source": [
    "# Unpickling classifier\n",
    "with open(\"LogR_cfl.pickle\",'rb') as f:\n",
    "    cfl = pickle.load(f)\n",
    "    \n",
    "# Unpickling classifier\n",
    "with open(\"Tfidf_Vec.pickle\",'rb') as f:\n",
    "    Tfidf_vec = pickle.load(f)\n",
    "    "
   ]
  },
  {
   "cell_type": "markdown",
   "metadata": {},
   "source": [
    "### Appling classifier"
   ]
  },
  {
   "cell_type": "code",
   "execution_count": 11,
   "metadata": {},
   "outputs": [],
   "source": [
    "# appling classifier on each tweet\n",
    "total_pos = 0\n",
    "total_neg = 0\n",
    "for tw in new_tweet_list:\n",
    "    result = cfl.predict(Tfidf_vec.transform([tw]).toarray())\n",
    "    if result[0] == 1:\n",
    "        total_pos+=1\n",
    "    else:\n",
    "        total_neg+=1"
   ]
  },
  {
   "cell_type": "markdown",
   "metadata": {},
   "source": [
    "### Plotting Final Analysis"
   ]
  },
  {
   "cell_type": "code",
   "execution_count": 12,
   "metadata": {},
   "outputs": [
    {
     "data": {
      "image/png": "[encoded data removed]",
      "text/plain": [
       "<Figure size 1080x360 with 2 Axes>"
      ]
     },
     "metadata": {
      "needs_background": "light"
     },
     "output_type": "display_data"
    }
   ],
   "source": [
    "\n",
    "fig = plt.figure(figsize=(15,5))\n",
    "#plotting pie chart\n",
    "plt.subplot2grid((1,2),(0,0))\n",
    "plt.pie(x = [total_pos,total_neg],\n",
    "        labels = [\"Positive\",'Negative'],\n",
    "        autopct = \"%0.02f\",shadow = True,radius = 1.2,textprops={'fontsize': 14})\n",
    "plt.title(\"Positive vs Negative tweets(%) on Oppo Reno\",fontsize= 16)\n",
    "\n",
    "# plotting bar graph\n",
    "plt.subplot2grid((1,2),(0,1),fig = fig)\n",
    "plt.bar(x =[0,1],height = [total_pos,total_neg],alpha = 0.5,color = [\"green\",\"orange\"])\n",
    "plt.ylabel(\"Tweet Count\",fontsize= 14)\n",
    "plt.xticks([0,1],[\"Positvie\",\"Negative\"],fontsize= 14)\n",
    "plt.title(\"Positive vs Negative tweets(Count) on Oppo Reno\",fontsize= 16)\n",
    "plt.show()"
   ]
  },
  {
   "cell_type": "code",
   "execution_count": null,
   "metadata": {},
   "outputs": [],
   "source": []
  }
 ],
 "metadata": {
  "kernelspec": {
   "display_name": "Python 3",
   "language": "python",
   "name": "python3"
  },
  "language_info": {
   "codemirror_mode": {
    "name": "ipython",
    "version": 3
   },
   "file_extension": ".py",
   "mimetype": "text/x-python",
   "name": "python",
   "nbconvert_exporter": "python",
   "pygments_lexer": "ipython3",
   "version": "3.7.3"
  }
 },
 "nbformat": 4,
 "nbformat_minor": 2
}
